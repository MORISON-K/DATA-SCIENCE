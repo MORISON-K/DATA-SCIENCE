{
 "cells": [
  {
   "cell_type": "markdown",
   "id": "df302b40-f1f0-4a38-b7ef-27e0720f7127",
   "metadata": {},
   "source": [
    "# NAME: ABINSINGUZA MORISON K\n",
    "# REG NUMBER: 24/U/02594/PS"
   ]
  },
  {
   "cell_type": "code",
   "execution_count": null,
   "id": "ca22c0ce-aa03-499f-b26b-ead7e0cb0925",
   "metadata": {},
   "outputs": [],
   "source": [
    "import pandas as pd\n",
    "import numpy as np\n",
    "import matplotlib.pyplot as plt\n",
    "import seaborn as sns\n",
    "\n",
    "\n",
    "%matplotlib inline\n"
   ]
  },
  {
   "cell_type": "code",
   "execution_count": null,
   "id": "110cfcf7-4b03-40ca-bf9f-58a237a4bc3d",
   "metadata": {},
   "outputs": [
    {
     "data": {
      "text/html": [
       "<div>\n",
       "<style scoped>\n",
       "    .dataframe tbody tr th:only-of-type {\n",
       "        vertical-align: middle;\n",
       "    }\n",
       "\n",
       "    .dataframe tbody tr th {\n",
       "        vertical-align: top;\n",
       "    }\n",
       "\n",
       "    .dataframe thead th {\n",
       "        text-align: right;\n",
       "    }\n",
       "</style>\n",
       "<table border=\"1\" class=\"dataframe\">\n",
       "  <thead>\n",
       "    <tr style=\"text-align: right;\">\n",
       "      <th></th>\n",
       "      <th>step</th>\n",
       "      <th>transactionType</th>\n",
       "      <th>amount</th>\n",
       "      <th>initiator</th>\n",
       "      <th>oldBalInitiator</th>\n",
       "      <th>newBalInitiator</th>\n",
       "      <th>recipient</th>\n",
       "      <th>oldBalRecipient</th>\n",
       "      <th>newBalRecipient</th>\n",
       "      <th>isFraud</th>\n",
       "    </tr>\n",
       "  </thead>\n",
       "  <tbody>\n",
       "    <tr>\n",
       "      <th>0</th>\n",
       "      <td>0</td>\n",
       "      <td>PAYMENT</td>\n",
       "      <td>579.16</td>\n",
       "      <td>4018807983755588</td>\n",
       "      <td>29.32</td>\n",
       "      <td>29.32</td>\n",
       "      <td>30-0000345</td>\n",
       "      <td>0.00</td>\n",
       "      <td>0.00</td>\n",
       "      <td>0</td>\n",
       "    </tr>\n",
       "    <tr>\n",
       "      <th>1</th>\n",
       "      <td>0</td>\n",
       "      <td>TRANSFER</td>\n",
       "      <td>39.03</td>\n",
       "      <td>4610593854752035</td>\n",
       "      <td>39.03</td>\n",
       "      <td>0.00</td>\n",
       "      <td>4944921135715488</td>\n",
       "      <td>55.94</td>\n",
       "      <td>94.98</td>\n",
       "      <td>1</td>\n",
       "    </tr>\n",
       "    <tr>\n",
       "      <th>2</th>\n",
       "      <td>0</td>\n",
       "      <td>TRANSFER</td>\n",
       "      <td>21.78</td>\n",
       "      <td>4840578447365454</td>\n",
       "      <td>21.78</td>\n",
       "      <td>0.00</td>\n",
       "      <td>4305579785620656</td>\n",
       "      <td>58.09</td>\n",
       "      <td>79.88</td>\n",
       "      <td>1</td>\n",
       "    </tr>\n",
       "    <tr>\n",
       "      <th>3</th>\n",
       "      <td>0</td>\n",
       "      <td>PAYMENT</td>\n",
       "      <td>570.22</td>\n",
       "      <td>4958066799829630</td>\n",
       "      <td>5.29</td>\n",
       "      <td>5.29</td>\n",
       "      <td>00-0000388</td>\n",
       "      <td>0.00</td>\n",
       "      <td>0.00</td>\n",
       "      <td>0</td>\n",
       "    </tr>\n",
       "    <tr>\n",
       "      <th>4</th>\n",
       "      <td>0</td>\n",
       "      <td>PAYMENT</td>\n",
       "      <td>574.80</td>\n",
       "      <td>4149196095918843</td>\n",
       "      <td>82.63</td>\n",
       "      <td>82.63</td>\n",
       "      <td>80-0005320</td>\n",
       "      <td>0.00</td>\n",
       "      <td>0.00</td>\n",
       "      <td>0</td>\n",
       "    </tr>\n",
       "  </tbody>\n",
       "</table>\n",
       "</div>"
      ],
      "text/plain": [
       "   step transactionType  amount         initiator  oldBalInitiator  \\\n",
       "0     0         PAYMENT  579.16  4018807983755588            29.32   \n",
       "1     0        TRANSFER   39.03  4610593854752035            39.03   \n",
       "2     0        TRANSFER   21.78  4840578447365454            21.78   \n",
       "3     0         PAYMENT  570.22  4958066799829630             5.29   \n",
       "4     0         PAYMENT  574.80  4149196095918843            82.63   \n",
       "\n",
       "   newBalInitiator         recipient  oldBalRecipient  newBalRecipient  \\\n",
       "0            29.32        30-0000345             0.00             0.00   \n",
       "1             0.00  4944921135715488            55.94            94.98   \n",
       "2             0.00  4305579785620656            58.09            79.88   \n",
       "3             5.29        00-0000388             0.00             0.00   \n",
       "4            82.63        80-0005320             0.00             0.00   \n",
       "\n",
       "   isFraud  \n",
       "0        0  \n",
       "1        1  \n",
       "2        1  \n",
       "3        0  \n",
       "4        0  "
      ]
     },
     "execution_count": 76,
     "metadata": {},
     "output_type": "execute_result"
    }
   ],
   "source": [
    "\n",
    "import pandas as pd\n",
    "\n",
    "file_path = \"C:\\\\Users\\\\Unusual_101\\\\Desktop\\\\cfc\\\\MoMTSim_20240722202413_1000_dataset.csv\"\n",
    "df = pd.read_csv(file_path)\n",
    "\n",
    "# Check the first few rows of the DataFrame\n",
    "df.head()\n"
   ]
  },
  {
   "cell_type": "code",
   "execution_count": null,
   "id": "2800d35e-9680-43fc-83e9-ce3a243b706d",
   "metadata": {},
   "outputs": [
    {
     "name": "stdout",
     "output_type": "stream",
     "text": [
      "<class 'pandas.core.frame.DataFrame'>\n",
      "RangeIndex: 4225958 entries, 0 to 4225957\n",
      "Data columns (total 10 columns):\n",
      " #   Column           Dtype  \n",
      "---  ------           -----  \n",
      " 0   step             int64  \n",
      " 1   transactionType  object \n",
      " 2   amount           float64\n",
      " 3   initiator        int64  \n",
      " 4   oldBalInitiator  float64\n",
      " 5   newBalInitiator  float64\n",
      " 6   recipient        object \n",
      " 7   oldBalRecipient  float64\n",
      " 8   newBalRecipient  float64\n",
      " 9   isFraud          int64  \n",
      "dtypes: float64(5), int64(3), object(2)\n",
      "memory usage: 322.4+ MB\n"
     ]
    },
    {
     "data": {
      "text/html": [
       "<div>\n",
       "<style scoped>\n",
       "    .dataframe tbody tr th:only-of-type {\n",
       "        vertical-align: middle;\n",
       "    }\n",
       "\n",
       "    .dataframe tbody tr th {\n",
       "        vertical-align: top;\n",
       "    }\n",
       "\n",
       "    .dataframe thead th {\n",
       "        text-align: right;\n",
       "    }\n",
       "</style>\n",
       "<table border=\"1\" class=\"dataframe\">\n",
       "  <thead>\n",
       "    <tr style=\"text-align: right;\">\n",
       "      <th></th>\n",
       "      <th>step</th>\n",
       "      <th>amount</th>\n",
       "      <th>initiator</th>\n",
       "      <th>oldBalInitiator</th>\n",
       "      <th>newBalInitiator</th>\n",
       "      <th>oldBalRecipient</th>\n",
       "      <th>newBalRecipient</th>\n",
       "      <th>isFraud</th>\n",
       "    </tr>\n",
       "  </thead>\n",
       "  <tbody>\n",
       "    <tr>\n",
       "      <th>count</th>\n",
       "      <td>4.225958e+06</td>\n",
       "      <td>4.225958e+06</td>\n",
       "      <td>4.225958e+06</td>\n",
       "      <td>4.225958e+06</td>\n",
       "      <td>4.225958e+06</td>\n",
       "      <td>4.225958e+06</td>\n",
       "      <td>4.225958e+06</td>\n",
       "      <td>4.225958e+06</td>\n",
       "    </tr>\n",
       "    <tr>\n",
       "      <th>mean</th>\n",
       "      <td>9.811771e+01</td>\n",
       "      <td>5.302139e+04</td>\n",
       "      <td>4.495008e+15</td>\n",
       "      <td>2.246055e+07</td>\n",
       "      <td>2.246527e+07</td>\n",
       "      <td>1.685005e+06</td>\n",
       "      <td>1.703967e+06</td>\n",
       "      <td>5.284288e-01</td>\n",
       "    </tr>\n",
       "    <tr>\n",
       "      <th>std</th>\n",
       "      <td>5.573710e+01</td>\n",
       "      <td>2.708194e+06</td>\n",
       "      <td>2.912521e+14</td>\n",
       "      <td>6.418504e+07</td>\n",
       "      <td>6.421561e+07</td>\n",
       "      <td>6.795783e+06</td>\n",
       "      <td>6.802160e+06</td>\n",
       "      <td>4.991912e-01</td>\n",
       "    </tr>\n",
       "    <tr>\n",
       "      <th>min</th>\n",
       "      <td>0.000000e+00</td>\n",
       "      <td>0.000000e+00</td>\n",
       "      <td>4.000000e+15</td>\n",
       "      <td>-1.999926e+05</td>\n",
       "      <td>-1.999926e+05</td>\n",
       "      <td>-7.477966e+04</td>\n",
       "      <td>0.000000e+00</td>\n",
       "      <td>0.000000e+00</td>\n",
       "    </tr>\n",
       "    <tr>\n",
       "      <th>25%</th>\n",
       "      <td>5.000000e+01</td>\n",
       "      <td>9.444000e+01</td>\n",
       "      <td>4.237994e+15</td>\n",
       "      <td>4.681000e+01</td>\n",
       "      <td>0.000000e+00</td>\n",
       "      <td>3.345156e+04</td>\n",
       "      <td>4.251237e+04</td>\n",
       "      <td>0.000000e+00</td>\n",
       "    </tr>\n",
       "    <tr>\n",
       "      <th>50%</th>\n",
       "      <td>9.900000e+01</td>\n",
       "      <td>5.966900e+02</td>\n",
       "      <td>4.491576e+15</td>\n",
       "      <td>3.655435e+03</td>\n",
       "      <td>0.000000e+00</td>\n",
       "      <td>2.007614e+05</td>\n",
       "      <td>2.042479e+05</td>\n",
       "      <td>1.000000e+00</td>\n",
       "    </tr>\n",
       "    <tr>\n",
       "      <th>75%</th>\n",
       "      <td>1.470000e+02</td>\n",
       "      <td>1.708469e+04</td>\n",
       "      <td>4.747260e+15</td>\n",
       "      <td>2.344082e+05</td>\n",
       "      <td>8.150306e+04</td>\n",
       "      <td>2.002134e+06</td>\n",
       "      <td>2.041814e+06</td>\n",
       "      <td>1.000000e+00</td>\n",
       "    </tr>\n",
       "    <tr>\n",
       "      <th>max</th>\n",
       "      <td>1.920000e+02</td>\n",
       "      <td>7.654805e+08</td>\n",
       "      <td>5.000000e+15</td>\n",
       "      <td>6.409231e+08</td>\n",
       "      <td>6.409231e+08</td>\n",
       "      <td>3.810134e+08</td>\n",
       "      <td>3.813883e+08</td>\n",
       "      <td>1.000000e+00</td>\n",
       "    </tr>\n",
       "  </tbody>\n",
       "</table>\n",
       "</div>"
      ],
      "text/plain": [
       "               step        amount     initiator  oldBalInitiator  \\\n",
       "count  4.225958e+06  4.225958e+06  4.225958e+06     4.225958e+06   \n",
       "mean   9.811771e+01  5.302139e+04  4.495008e+15     2.246055e+07   \n",
       "std    5.573710e+01  2.708194e+06  2.912521e+14     6.418504e+07   \n",
       "min    0.000000e+00  0.000000e+00  4.000000e+15    -1.999926e+05   \n",
       "25%    5.000000e+01  9.444000e+01  4.237994e+15     4.681000e+01   \n",
       "50%    9.900000e+01  5.966900e+02  4.491576e+15     3.655435e+03   \n",
       "75%    1.470000e+02  1.708469e+04  4.747260e+15     2.344082e+05   \n",
       "max    1.920000e+02  7.654805e+08  5.000000e+15     6.409231e+08   \n",
       "\n",
       "       newBalInitiator  oldBalRecipient  newBalRecipient       isFraud  \n",
       "count     4.225958e+06     4.225958e+06     4.225958e+06  4.225958e+06  \n",
       "mean      2.246527e+07     1.685005e+06     1.703967e+06  5.284288e-01  \n",
       "std       6.421561e+07     6.795783e+06     6.802160e+06  4.991912e-01  \n",
       "min      -1.999926e+05    -7.477966e+04     0.000000e+00  0.000000e+00  \n",
       "25%       0.000000e+00     3.345156e+04     4.251237e+04  0.000000e+00  \n",
       "50%       0.000000e+00     2.007614e+05     2.042479e+05  1.000000e+00  \n",
       "75%       8.150306e+04     2.002134e+06     2.041814e+06  1.000000e+00  \n",
       "max       6.409231e+08     3.810134e+08     3.813883e+08  1.000000e+00  "
      ]
     },
     "execution_count": 77,
     "metadata": {},
     "output_type": "execute_result"
    }
   ],
   "source": [
    "# Getting  basic info and summary statistics\n",
    "df.info()\n",
    "df.describe()\n"
   ]
  },
  {
   "cell_type": "code",
   "execution_count": null,
   "id": "f99cc8f7-8acc-4ca7-ae46-98e6ebba63dd",
   "metadata": {},
   "outputs": [
    {
     "name": "stdout",
     "output_type": "stream",
     "text": [
      "Mean of amount: 53021.392248285476\n",
      "Standard Deviation of amount: 2708193.6453555515\n"
     ]
    }
   ],
   "source": [
    "# Computing mean and standard deviation for the 'amount' column\n",
    "mean_amount = df['amount'].mean()\n",
    "std_amount = df['amount'].std()\n",
    "\n",
    "print(\"Mean of amount:\", mean_amount)\n",
    "print(\"Standard Deviation of amount:\", std_amount)\n"
   ]
  },
  {
   "cell_type": "markdown",
   "id": "3c9cde96-e739-4823-a7f3-5939a76d9adf",
   "metadata": {},
   "source": [
    "I computed the mean and standard deviation of the amount column to understand the central tendency and the variability of transaction amounts."
   ]
  },
  {
   "cell_type": "code",
   "execution_count": null,
   "id": "415f7cbd-06ec-45fa-8a5c-2404a9082421",
   "metadata": {},
   "outputs": [
    {
     "data": {
      "image/png": "[encoded data removed]",
      "text/plain": [
       "<Figure size 1000x600 with 1 Axes>"
      ]
     },
     "metadata": {},
     "output_type": "display_data"
    }
   ],
   "source": [
    "# Creating and displaying a boxplot for the 'amount' column using seaborn\n",
    "plt.figure(figsize=(10, 6))\n",
    "sns.boxplot(x=df['amount'])\n",
    "plt.title('Boxplot of Transaction Amounts')\n",
    "plt.xlabel('Amount')\n",
    "plt.show()\n"
   ]
  },
  {
   "cell_type": "markdown",
   "id": "7a4af0bc-fbed-487c-a7c5-a9f6cc4cbea8",
   "metadata": {},
   "source": [
    "The boxplot visually represents the distribution of transaction amounts and helps identify potential outliers."
   ]
  },
  {
   "cell_type": "code",
   "execution_count": null,
   "id": "1ce36b69-c37f-4657-8a5d-3771cf829659",
   "metadata": {},
   "outputs": [
    {
     "name": "stdout",
     "output_type": "stream",
     "text": [
      "Number of outliers: 370472\n"
     ]
    }
   ],
   "source": [
    "# Calculating the first (Q1) and third (Q3) quartiles\n",
    "Q1 = df['amount'].quantile(0.25)\n",
    "Q3 = df['amount'].quantile(0.75)\n",
    "IQR = Q3 - Q1\n",
    "\n",
    "# Defining lower and upper bounds for outliers\n",
    "lower_bound = Q1 - 1.5 * IQR\n",
    "upper_bound = Q3 + 1.5 * IQR\n",
    "\n",
    "# Identifing the outliers\n",
    "outliers = df[(df['amount'] < lower_bound) | (df['amount'] > upper_bound)]\n",
    "print(\"Number of outliers:\", outliers.shape[0])\n"
   ]
  },
  {
   "cell_type": "markdown",
   "id": "350ef9fb-168f-4bad-ba9d-e4c63eef9100",
   "metadata": {},
   "source": [
    "I used the IQR(Inter Quartile Range) method to identify outliers. Data points that fall below the lower bound or above the upper bound are considered outliers. This could indicate either data entry errors or genuine, extreme transactions that need further analysis."
   ]
  },
  {
   "cell_type": "code",
   "execution_count": null,
   "id": "118dab1d-1f1d-47c4-93a3-f567e311df73",
   "metadata": {},
   "outputs": [
    {
     "name": "stdout",
     "output_type": "stream",
     "text": [
      "Overall Fraud Probability: 0.5284288201633807\n"
     ]
    }
   ],
   "source": [
    "# Calculating the overall fraud probability in the dataset\n",
    "overall_fraud_rate = df['isFraud'].mean()  # The mean gives the proportion of fraud cases\n",
    "print(\"Overall Fraud Probability:\", overall_fraud_rate)\n"
   ]
  },
  {
   "cell_type": "markdown",
   "id": "10125016-4a53-468f-8c3f-b7731da0a496",
   "metadata": {},
   "source": [
    "The overall fraud probability is the fraction of transactions marked as fraud, computed as the average of the isFraud column."
   ]
  },
  {
   "cell_type": "code",
   "execution_count": null,
   "id": "27260cd2-4aa0-44db-8d7b-5e48c3af3643",
   "metadata": {},
   "outputs": [
    {
     "name": "stdout",
     "output_type": "stream",
     "text": [
      "['PAYMENT' 'TRANSFER' 'DEPOSIT' 'WITHDRAWAL' 'DEBIT']\n"
     ]
    }
   ],
   "source": [
    "# Check unique transaction types\n",
    "print(df['transactionType'].unique())\n"
   ]
  },
  {
   "cell_type": "code",
   "execution_count": null,
   "id": "b3453df0-b9ab-406b-991a-7606da27a03a",
   "metadata": {},
   "outputs": [
    {
     "name": "stdout",
     "output_type": "stream",
     "text": [
      "Fraud Probability for transaction type 'TRANSFER': 0.8893529015148468\n"
     ]
    }
   ],
   "source": [
    "# Choosing the transaction type to analyze \n",
    "transaction_type = 'TRANSFER'  \n",
    "subset = df[df['transactionType'] == transaction_type]\n",
    "\n",
    "# Calculating the fraud probability for the chosen transaction type\n",
    "fraud_rate_given_type = subset['isFraud'].mean()\n",
    "print(f\"Fraud Probability for transaction type '{transaction_type}':\", fraud_rate_given_type)\n"
   ]
  },
  {
   "cell_type": "markdown",
   "id": "fbb9fe8b-bfea-4a20-93a2-97d10f8106a8",
   "metadata": {},
   "source": [
    "I filtered the dataset for a TRANSFER transactionType and computed the fraud probability for that subset. This conditional probability can then be compared with the overall fraud rate to identify any notable differences."
   ]
  },
  {
   "cell_type": "markdown",
   "id": "5b59053c-ffda-4f03-b658-b08c12459c6c",
   "metadata": {},
   "source": [
    "## Summary of Findings\n",
    "\n",
    "- **Distribution of Transaction Amounts:**  \n",
    "  The mean transaction amount is **[53021.392248285476]** with a standard deviation of **[2708193.6453555515]**. The boxplot revealed the presence of several outliers, suggesting the possibility of extreme transactions which could be genuine or may need further data validation.\n",
    "\n",
    "- **Fraud Analysis:**  \n",
    "  The overall fraud probability is **[ 0.5284288201633807]**. For transactions of type `'TRANSFER'`, the fraud probability is **[ 0.8893529015148468]**, which is [higher] than the overall rate. This difference provides insights into potential risk factors associated with specific transaction types.\n",
    "\n",
    "- **Implications:**  \n",
    "  Such findings highlight areas that may require additional attention — for instance, the high variability in transaction amounts and the potentially elevated fraud risk in certain transaction types could impact risk management strategies.\n"
   ]
  }
 ],
 "metadata": {
  "kernelspec": {
   "display_name": "Python 3 (ipykernel)",
   "language": "python",
   "name": "python3"
  },
  "language_info": {
   "codemirror_mode": {
    "name": "ipython",
    "version": 3
   },
   "file_extension": ".py",
   "mimetype": "text/x-python",
   "name": "python",
   "nbconvert_exporter": "python",
   "pygments_lexer": "ipython3",
   "version": "3.12.7"
  }
 },
 "nbformat": 4,
 "nbformat_minor": 5
}
